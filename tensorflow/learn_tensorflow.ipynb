{
 "cells": [
  {
   "cell_type": "code",
   "execution_count": 13,
   "metadata": {},
   "outputs": [],
   "source": [
    "import numpy as np"
   ]
  },
  {
   "cell_type": "code",
   "execution_count": 2,
   "metadata": {},
   "outputs": [
    {
     "name": "stderr",
     "output_type": "stream",
     "text": [
      "d:\\anaconda\\lib\\site-packages\\scipy\\__init__.py:146: UserWarning: A NumPy version >=1.16.5 and <1.23.0 is required for this version of SciPy (detected version 1.26.1\n",
      "  warnings.warn(f\"A NumPy version >={np_minversion} and <{np_maxversion}\"\n"
     ]
    },
    {
     "name": "stdout",
     "output_type": "stream",
     "text": [
      "tf.__version__= 2.14.0\n"
     ]
    }
   ],
   "source": [
    "## 检查版本\n",
    "import tensorflow as tf\n",
    "print('tf.__version__=', tf.__version__)"
   ]
  },
  {
   "cell_type": "markdown",
   "metadata": {},
   "source": [
    "# 1. 数据类型"
   ]
  },
  {
   "cell_type": "markdown",
   "metadata": {},
   "source": [
    "## 1.1 张量的基础类型"
   ]
  },
  {
   "cell_type": "code",
   "execution_count": 5,
   "metadata": {},
   "outputs": [
    {
     "name": "stdout",
     "output_type": "stream",
     "text": [
      "tf.Tensor(True, shape=(), dtype=bool)\n",
      "tf.Tensor(1, shape=(), dtype=int32)\n",
      "tf.Tensor(1.0, shape=(), dtype=float32)\n",
      "tf.Tensor(1.0, shape=(), dtype=float64)\n",
      "tf.Tensor(b'hello', shape=(), dtype=string)\n",
      "tf.Tensor(2.0, shape=(), dtype=float64)\n",
      "tf.Tensor(2.0, shape=(), dtype=float32)\n"
     ]
    }
   ],
   "source": [
    "print(tf.constant(True))\n",
    "print(tf.constant(1))\n",
    "print(tf.constant(1.0))\n",
    "print(tf.constant(1.0, dtype=tf.float64))\n",
    "print(tf.constant('hello'))\n",
    "\n",
    "## 通过numpy构建，与上面的float情况表现不一致\n",
    "print(tf.constant(np.array(2.0)))\n",
    "print(tf.constant(np.array(2.0), dtype=tf.float32))"
   ]
  },
  {
   "cell_type": "markdown",
   "metadata": {},
   "source": [
    "numpy创建数组时默认的浮点型是double，而tf在创建张量时默认是float32。tf在接受numpy数组时会同时接受其元素的数据类型。"
   ]
  },
  {
   "cell_type": "markdown",
   "metadata": {},
   "source": [
    "## 1.2 Variable是特殊的张量\n",
    "Variable也是一种tensor，一般用于模型中需要再训练过程中进行调整的参数"
   ]
  },
  {
   "cell_type": "code",
   "execution_count": 5,
   "metadata": {},
   "outputs": [
    {
     "name": "stdout",
     "output_type": "stream",
     "text": [
      "<tf.Variable 'Variable:0' shape=() dtype=float32, numpy=1.0>\n",
      "False\n",
      "<class 'tensorflow.python.ops.resource_variable_ops.ResourceVariable'>\n",
      "True\n"
     ]
    }
   ],
   "source": [
    "print(tf.Variable(1.0))\n",
    "print(isinstance(tf.Variable(1.0), tf.Tensor))\n",
    "print(type(tf.Variable(1.0)))\n",
    "print(tf.is_tensor(tf.Variable(1.0)))"
   ]
  },
  {
   "cell_type": "code",
   "execution_count": 8,
   "metadata": {},
   "outputs": [
    {
     "name": "stdout",
     "output_type": "stream",
     "text": [
      "<tf.Variable 'Variable:0' shape=() dtype=float32, numpy=2.0>\n",
      "True\n",
      "error: 'tensorflow.python.framework.ops.EagerTensor' object has no attribute 'trainable'\n"
     ]
    }
   ],
   "source": [
    "## 特殊性\n",
    "a = tf.Variable(1.0)\n",
    "a.assign(2.0)\n",
    "print(a)\n",
    "print(a.trainable)\n",
    "\n",
    "b=tf.constant(1.0)\n",
    "try:\n",
    "    print(b.trainable)\n",
    "    b.assign(2.0)\n",
    "except Exception as e:\n",
    "    print('error:', e)"
   ]
  },
  {
   "cell_type": "markdown",
   "metadata": {},
   "source": [
    "Variable在初始化之后还是可以修改其内容的，并且其包含了“trainable”属性。该属性在训练时，可以用于判断这个Variable是否需要被调整。而一般的Tensor在初始化之后是不能修改内容的。如果需要修改，就只能生成一个新的Tensor。并且一般的Tensor没有“trainable”属性，说明在训练时，是完全不需要在误差反传中进行调整。"
   ]
  },
  {
   "cell_type": "markdown",
   "metadata": {},
   "source": [
    "## 1.3 张量的常用属性"
   ]
  },
  {
   "cell_type": "code",
   "execution_count": 9,
   "metadata": {},
   "outputs": [
    {
     "name": "stdout",
     "output_type": "stream",
     "text": [
      "张量的形状： (1,)\n",
      "张量的维度： 1\n",
      "张量元素的类型： <dtype: 'float32'>\n",
      "张量转换为numpy数组： [1.]\n"
     ]
    }
   ],
   "source": [
    "a = tf.constant([1.0])\n",
    "print('张量的形状：', a.shape)\n",
    "print('张量的维度：', a.ndim)\n",
    "print('张量元素的类型：', a.dtype)\n",
    "print('张量转换为numpy数组：', a.numpy())"
   ]
  },
  {
   "cell_type": "markdown",
   "metadata": {},
   "source": [
    "# 2. 创建张量"
   ]
  },
  {
   "cell_type": "code",
   "execution_count": 23,
   "metadata": {},
   "outputs": [
    {
     "name": "stdout",
     "output_type": "stream",
     "text": [
      "tf.Tensor(1, shape=(), dtype=int32)\n",
      "tf.Tensor(1, shape=(), dtype=int32)\n",
      "tf.Tensor([1 2 3], shape=(3,), dtype=int32)\n",
      "tf.Tensor([1 2 3], shape=(3,), dtype=int32)\n",
      "tf.Tensor([[1. 1. 1.]], shape=(1, 3), dtype=float32)\n",
      "tf.Tensor([0.  0.5 1. ], shape=(3,), dtype=float32)\n",
      "tf.Tensor([], shape=(0,), dtype=float32)\n",
      "tf.Tensor([[1. 1. 1. 1. 1.]], shape=(1, 5), dtype=float32)\n",
      "tf.Tensor([[-0.49769893 -1.3980428 ]], shape=(1, 2), dtype=float32)\n",
      "tf.Tensor([[ 0.5500834  -0.28357336]], shape=(1, 2), dtype=float32)\n",
      "tf.Tensor([[0.9248296  0.21447694]], shape=(1, 2), dtype=float32)\n",
      "tf.Tensor(\n",
      "[[ 5 12]\n",
      " [21 32]], shape=(2, 2), dtype=int32)\n"
     ]
    }
   ],
   "source": [
    "# 从python基础类型创建\n",
    "print(tf.constant(1))\n",
    "print(tf.convert_to_tensor(1))\n",
    "\n",
    "# 从list创建 \n",
    "print(tf.constant([1,2,3]))\n",
    "\n",
    "# 从numpy数组创建\n",
    "print(tf.constant(np.array([1,2,3])))\n",
    "\n",
    "#使用tf中类似numpy的操作创建\n",
    "## 特殊值数组: ones, zeros, eye\n",
    "print(tf.ones(shape=(1,3), dtype=tf.float32))\n",
    "## 线性划分数组\n",
    "print(tf.linspace(0.0,1.0,3))\n",
    "## 同形状填充\n",
    "print(tf.ones_like(tf.linspace(0.0,1,0,4)))\n",
    "## 通用数值填充\n",
    "print(tf.fill((1,5), 1.0))\n",
    "\n",
    "#随机函数创建\n",
    "print(tf.random.normal((1,2)))\n",
    "print(tf.random.truncated_normal((1,2)))\n",
    "print(tf.random.uniform((1,2), minval=0.0, maxval=1.0))\n",
    "\n",
    "#运算过程中产生\n",
    "a = tf.constant([[1,2], [3,4]])\n",
    "b = tf.constant([[5,6], [7,8]])\n",
    "print(a*b)"
   ]
  },
  {
   "cell_type": "markdown",
   "metadata": {},
   "source": [
    "# 张量索引和切片"
   ]
  },
  {
   "cell_type": "code",
   "execution_count": 25,
   "metadata": {},
   "outputs": [
    {
     "name": "stdout",
     "output_type": "stream",
     "text": [
      "tf.Tensor([1 2 3], shape=(3,), dtype=int32)\n",
      "tf.Tensor(1, shape=(), dtype=int32)\n",
      "tf.Tensor(2, shape=(), dtype=int32)\n",
      "tf.Tensor([1 4], shape=(2,), dtype=int32)\n",
      "tf.Tensor([1 3], shape=(2,), dtype=int32)\n",
      "tf.Tensor([3 2 1], shape=(3,), dtype=int32)\n",
      "tf.Tensor([3 2], shape=(2,), dtype=int32)\n",
      "tf.Tensor([2 1], shape=(2,), dtype=int32)\n",
      "tf.Tensor([1 2 3], shape=(3,), dtype=int32)\n",
      "tf.Tensor([2 5], shape=(2,), dtype=int32)\n",
      "(2, 3, 4, 5, 1)\n",
      "(2, 5, 6)\n",
      "(2, 3, 1, 5, 6)\n"
     ]
    }
   ],
   "source": [
    "# 基本索引\n",
    "a = tf.constant([[1,2,3],[4,5,6]])\n",
    "print(a[0])\n",
    "print(a[0][0])\n",
    "\n",
    "# 切片 类似numpy风格\n",
    "print(a[0,1])        # 取元素\n",
    "print(a[0:2, 0])     # 取第0列，省略step\n",
    "print(a[0, 0:3:2])   # 完全形式的切片\n",
    "print(a[0, ::-1])    # 省略start和end\n",
    "print(a[0, :-3:-1])  # 省略start\n",
    "print(a[0, -2::-1])  # 省略end\n",
    "print(a[0, ...])     # 使用省略号, 省略号表示被省略的维度中取所有的shape\n",
    "print(a[..., 1])     # 使用省略号\n",
    "\n",
    "# 切片函数\n",
    "b = tf.ones((2,3,4,5,6), dtype=tf.int32)\n",
    "# 收集指定维度的若干个索引，其他维度保持形状不变\n",
    "print(tf.gather(b, axis=4, indices=[2]).shape)\n",
    "# 收集指定的若干个维度的索引\n",
    "print(tf.gather_nd(b, [[0,0,0], [0,0,1]]).shape)\n",
    "# 使用bool蒙版\n",
    "mask = tf.constant([False, False, False, True])\n",
    "print(tf.boolean_mask(b, mask=mask, axis=2).shape)"
   ]
  },
  {
   "cell_type": "code",
   "execution_count": null,
   "metadata": {},
   "outputs": [],
   "source": []
  }
 ],
 "metadata": {
  "kernelspec": {
   "display_name": "base",
   "language": "python",
   "name": "python3"
  },
  "language_info": {
   "codemirror_mode": {
    "name": "ipython",
    "version": 3
   },
   "file_extension": ".py",
   "mimetype": "text/x-python",
   "name": "python",
   "nbconvert_exporter": "python",
   "pygments_lexer": "ipython3",
   "version": "3.9.7"
  }
 },
 "nbformat": 4,
 "nbformat_minor": 2
}
